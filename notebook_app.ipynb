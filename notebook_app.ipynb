{
 "cells": [
  {
   "cell_type": "code",
   "execution_count": 2,
   "metadata": {},
   "outputs": [],
   "source": [
    "from src import coletar_nomes_frequentes\n",
    "from src import coletar_dados_cemiterio\n",
    "from src import pre_processamento\n",
    "from src import armazenar_dados"
   ]
  },
  {
   "cell_type": "code",
   "execution_count": null,
   "metadata": {},
   "outputs": [],
   "source": [
    "# coletar nomes frequentes no Brasil\n",
    "coletar_nomes_frequentes.coletar_nomes_frequentes()\n",
    "print('nomes frequentes coletados, app funcionando')"
   ]
  },
  {
   "cell_type": "code",
   "execution_count": null,
   "metadata": {},
   "outputs": [],
   "source": [
    "# coletar dados de cemiterios\n",
    "coletar_dados_cemiterio.coletar_dados_cemit(2018)"
   ]
  },
  {
   "cell_type": "code",
   "execution_count": null,
   "metadata": {},
   "outputs": [],
   "source": [
    "# tratar dados coletados\n",
    "pre_processamento.tratar_dados()\n",
    "print('Dados pre processados')"
   ]
  },
  {
   "cell_type": "code",
   "execution_count": 1,
   "metadata": {},
   "outputs": [
    {
     "name": "stdout",
     "output_type": "stream",
     "text": [
      "Banco de dados e tabela criados com sucesso.\n",
      "Dados inseridos com sucesso\n"
     ]
    }
   ],
   "source": [
    "# armazenar dados tratados\n",
    "armazenar_dados.carregar_dados_bd()"
   ]
  }
 ],
 "metadata": {
  "kernelspec": {
   "display_name": "env_cemit",
   "language": "python",
   "name": "python3"
  },
  "language_info": {
   "codemirror_mode": {
    "name": "ipython",
    "version": 3
   },
   "file_extension": ".py",
   "mimetype": "text/x-python",
   "name": "python",
   "nbconvert_exporter": "python",
   "pygments_lexer": "ipython3",
   "version": "3.11.8"
  }
 },
 "nbformat": 4,
 "nbformat_minor": 2
}
